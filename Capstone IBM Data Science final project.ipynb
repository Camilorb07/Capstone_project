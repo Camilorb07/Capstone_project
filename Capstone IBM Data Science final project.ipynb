{
    "cells": [
        {
            "attachments": {},
            "cell_type": "markdown",
            "metadata": {},
            "source": "\n<a><img src=\"https://cdn.pixabay.com/photo/2017/01/20/20/24/car-accident-1995852_1280.png\" width=\"400\" align=\"center\"></a>"
        },
        {
            "cell_type": "markdown",
            "metadata": {},
            "source": "<h1 align=\"center\"><font size=\"9\">Applied Data Science Capstone</font></h1>\n<hr style=\"border:3px solid blue\"> </hr>"
        },
        {
            "cell_type": "markdown",
            "metadata": {},
            "source": "# Capstone Project - Car Accident Severity\n### Applied Data Science Capstone by IBM/Coursera"
        },
        {
            "cell_type": "markdown",
            "metadata": {},
            "source": "<hr style=\"border:1px solid black\"> </hr>"
        },
        {
            "cell_type": "markdown",
            "metadata": {},
            "source": "# Table of contents\n1. [Introduction: Business Problem](#introduction)\n2. [Data Understanding](#data_un)\n    1. [Import Packages](#imp_pack_data_un)\n    2. [Get Data](#get_data)\n    3. [Data Exploration](#data_ex)\n    4. [Parameter Selection](#parameter)\n    5. [Visualization](#visual)\n3. [Data Preparation](#data_pr)\n    1. [Import Packages](#imp_pack_data_pre)\n    2. [Data Separation](#data_se)\n    3. [Data Cleaning](#data_cl)\n    4. [Categorize Data](#cat_data)\n    5. [Balance Data](#bal_data)\n    6. [Train / Test Division](#tt_div)\n4. [Modeling](#modeling)"
        },
        {
            "cell_type": "markdown",
            "metadata": {},
            "source": "# 1. Introduction: Business understanding (Problem) <a name=\"introduction\"></a>\n<hr style=\"border:1px solid black\"> </hr>"
        },
        {
            "cell_type": "markdown",
            "metadata": {},
            "source": "In an effort to reduce the frequency and the sverity of car collisions in a community, an algorithim must be developed to predict the severity of an accident given the current weather, road and visibility conditions. \n\nWhen conditions are prone to fatal accidents, the model developed will allow drivers to be alerted to the likelihood of an accident and to be reminded to drive carefully."
        },
        {
            "cell_type": "markdown",
            "metadata": {},
            "source": "# 2. Data Understanding<a name=\"data_un\"></a>\n<hr style=\"border:1px solid black\"> </hr>\nimport data from csv fila using pandas library"
        },
        {
            "cell_type": "markdown",
            "metadata": {},
            "source": "the data set we are going to use contains data about car accidents provided by SPD and recorded by Traffic Records.([Download Data](https://opendata.arcgis.com/datasets/5b5c745e0f1f48e7a53acec63a0022ab_0.csv)), The label for the data set is 'SEVERITYCODE' (Target variable), which describes the fatality of an accident, it can take 4 values:"
        },
        {
            "cell_type": "markdown",
            "metadata": {},
            "source": "* 0: Little to no Probability (Clear Conditions)\n* 1: Very Low Probability - Chance or Property Damage\n* 2: Low Probability - Chance of Injury\n* 3: Mild Probability - Chance of Serious Injury\n* 4: High Probability - Chance of Fatality"
        },
        {
            "cell_type": "markdown",
            "metadata": {},
            "source": "## 2.1 Import Packages <a name=\"imp_pack_data_un\"></a>\nimport data from csv fila using pandas library"
        },
        {
            "cell_type": "code",
            "execution_count": 1,
            "metadata": {},
            "outputs": [
                {
                    "name": "stdout",
                    "output_type": "stream",
                    "text": "pandas installed\n"
                }
            ],
            "source": "#import pandas\ntry:\n    import pandas as pd\n    print(\"pandas installed\")\nexcept:\n    pass"
        },
        {
            "cell_type": "markdown",
            "metadata": {},
            "source": "## 2.2 Get data <a name=\"get_data\"></a>\nimport data from csv fila using pandas library"
        },
        {
            "cell_type": "code",
            "execution_count": 2,
            "metadata": {},
            "outputs": [
                {
                    "data": {
                        "text/html": "<div>\n<style scoped>\n    .dataframe tbody tr th:only-of-type {\n        vertical-align: middle;\n    }\n\n    .dataframe tbody tr th {\n        vertical-align: top;\n    }\n\n    .dataframe thead th {\n        text-align: right;\n    }\n</style>\n<table border=\"1\" class=\"dataframe\">\n  <thead>\n    <tr style=\"text-align: right;\">\n      <th></th>\n      <th>X</th>\n      <th>Y</th>\n      <th>OBJECTID</th>\n      <th>INCKEY</th>\n      <th>COLDETKEY</th>\n      <th>REPORTNO</th>\n      <th>STATUS</th>\n      <th>ADDRTYPE</th>\n      <th>INTKEY</th>\n      <th>LOCATION</th>\n      <th>...</th>\n      <th>ROADCOND</th>\n      <th>LIGHTCOND</th>\n      <th>PEDROWNOTGRNT</th>\n      <th>SDOTCOLNUM</th>\n      <th>SPEEDING</th>\n      <th>ST_COLCODE</th>\n      <th>ST_COLDESC</th>\n      <th>SEGLANEKEY</th>\n      <th>CROSSWALKKEY</th>\n      <th>HITPARKEDCAR</th>\n    </tr>\n  </thead>\n  <tbody>\n    <tr>\n      <th>0</th>\n      <td>-122.288688</td>\n      <td>47.532714</td>\n      <td>1</td>\n      <td>29800</td>\n      <td>29800</td>\n      <td>1177964</td>\n      <td>Unmatched</td>\n      <td>Block</td>\n      <td>NaN</td>\n      <td>BEACON ER AVE S BETWEEN S PORTLAND ST AND S CH...</td>\n      <td>...</td>\n      <td>NaN</td>\n      <td>NaN</td>\n      <td>NaN</td>\n      <td>4315006.0</td>\n      <td>NaN</td>\n      <td>NaN</td>\n      <td>NaN</td>\n      <td>0</td>\n      <td>0</td>\n      <td>N</td>\n    </tr>\n    <tr>\n      <th>1</th>\n      <td>NaN</td>\n      <td>NaN</td>\n      <td>2</td>\n      <td>115700</td>\n      <td>115700</td>\n      <td>10097005</td>\n      <td>Unmatched</td>\n      <td>NaN</td>\n      <td>NaN</td>\n      <td>NaN</td>\n      <td>...</td>\n      <td>NaN</td>\n      <td>NaN</td>\n      <td>NaN</td>\n      <td>10097005.0</td>\n      <td>NaN</td>\n      <td>NaN</td>\n      <td>NaN</td>\n      <td>0</td>\n      <td>0</td>\n      <td>N</td>\n    </tr>\n    <tr>\n      <th>2</th>\n      <td>-122.355556</td>\n      <td>47.727318</td>\n      <td>3</td>\n      <td>1358</td>\n      <td>1358</td>\n      <td>3568600</td>\n      <td>Matched</td>\n      <td>Block</td>\n      <td>NaN</td>\n      <td>GREENWOOD AVE N BETWEEN N 134TH ST AND N 136TH ST</td>\n      <td>...</td>\n      <td>Dry</td>\n      <td>Daylight</td>\n      <td>NaN</td>\n      <td>NaN</td>\n      <td>NaN</td>\n      <td>28</td>\n      <td>From opposite direction - one left turn - one ...</td>\n      <td>0</td>\n      <td>0</td>\n      <td>N</td>\n    </tr>\n    <tr>\n      <th>3</th>\n      <td>-122.317563</td>\n      <td>47.618764</td>\n      <td>4</td>\n      <td>70700</td>\n      <td>70700</td>\n      <td>2806057</td>\n      <td>Matched</td>\n      <td>Block</td>\n      <td>NaN</td>\n      <td>E DENNY WAY BETWEEN 11TH AVE AND 12TH AVE</td>\n      <td>...</td>\n      <td>Dry</td>\n      <td>Other</td>\n      <td>NaN</td>\n      <td>7065007.0</td>\n      <td>NaN</td>\n      <td>32</td>\n      <td>One parked--one moving</td>\n      <td>0</td>\n      <td>0</td>\n      <td>N</td>\n    </tr>\n    <tr>\n      <th>4</th>\n      <td>-122.361015</td>\n      <td>47.538551</td>\n      <td>5</td>\n      <td>53600</td>\n      <td>53600</td>\n      <td>2127310</td>\n      <td>Matched</td>\n      <td>Block</td>\n      <td>NaN</td>\n      <td>DELRIDGE WAY SW BETWEEN SW MYRTLE ST AND SW OR...</td>\n      <td>...</td>\n      <td>Dry</td>\n      <td>Daylight</td>\n      <td>NaN</td>\n      <td>6137017.0</td>\n      <td>NaN</td>\n      <td>14</td>\n      <td>From same direction - both going straight - on...</td>\n      <td>0</td>\n      <td>0</td>\n      <td>N</td>\n    </tr>\n  </tbody>\n</table>\n<p>5 rows \u00d7 40 columns</p>\n</div>",
                        "text/plain": "            X          Y  OBJECTID  INCKEY  COLDETKEY  REPORTNO     STATUS  \\\n0 -122.288688  47.532714         1   29800      29800   1177964  Unmatched   \n1         NaN        NaN         2  115700     115700  10097005  Unmatched   \n2 -122.355556  47.727318         3    1358       1358   3568600    Matched   \n3 -122.317563  47.618764         4   70700      70700   2806057    Matched   \n4 -122.361015  47.538551         5   53600      53600   2127310    Matched   \n\n  ADDRTYPE  INTKEY                                           LOCATION  ...  \\\n0    Block     NaN  BEACON ER AVE S BETWEEN S PORTLAND ST AND S CH...  ...   \n1      NaN     NaN                                                NaN  ...   \n2    Block     NaN  GREENWOOD AVE N BETWEEN N 134TH ST AND N 136TH ST  ...   \n3    Block     NaN          E DENNY WAY BETWEEN 11TH AVE AND 12TH AVE  ...   \n4    Block     NaN  DELRIDGE WAY SW BETWEEN SW MYRTLE ST AND SW OR...  ...   \n\n  ROADCOND LIGHTCOND PEDROWNOTGRNT  SDOTCOLNUM SPEEDING  ST_COLCODE  \\\n0      NaN       NaN           NaN   4315006.0      NaN         NaN   \n1      NaN       NaN           NaN  10097005.0      NaN         NaN   \n2      Dry  Daylight           NaN         NaN      NaN          28   \n3      Dry     Other           NaN   7065007.0      NaN          32   \n4      Dry  Daylight           NaN   6137017.0      NaN          14   \n\n                                          ST_COLDESC  SEGLANEKEY  \\\n0                                                NaN           0   \n1                                                NaN           0   \n2  From opposite direction - one left turn - one ...           0   \n3                             One parked--one moving           0   \n4  From same direction - both going straight - on...           0   \n\n   CROSSWALKKEY  HITPARKEDCAR  \n0             0             N  \n1             0             N  \n2             0             N  \n3             0             N  \n4             0             N  \n\n[5 rows x 40 columns]"
                    },
                    "execution_count": 2,
                    "metadata": {},
                    "output_type": "execute_result"
                }
            ],
            "source": "car_acc_df = pd.read_csv('https://opendata.arcgis.com/datasets/5b5c745e0f1f48e7a53acec63a0022ab_0.csv',encoding = \"utf-8\",low_memory=False)\ncar_acc_df.head()"
        },
        {
            "cell_type": "markdown",
            "metadata": {},
            "source": "## 2.3 Data exploration<a name=\"data_ex\"></a>\nAppli some pandas methods to understand better the data"
        },
        {
            "cell_type": "markdown",
            "metadata": {},
            "source": "#### Dataset shape"
        },
        {
            "cell_type": "code",
            "execution_count": 3,
            "metadata": {},
            "outputs": [
                {
                    "name": "stdout",
                    "output_type": "stream",
                    "text": "Rows:  221144\nColumns:  40\n"
                }
            ],
            "source": "print(\"Rows: \",car_acc_df.shape[0])\nprint(\"Columns: \",car_acc_df.shape[1])"
        },
        {
            "cell_type": "markdown",
            "metadata": {},
            "source": "#### Data basic information"
        },
        {
            "cell_type": "code",
            "execution_count": 4,
            "metadata": {},
            "outputs": [
                {
                    "name": "stdout",
                    "output_type": "stream",
                    "text": "<class 'pandas.core.frame.DataFrame'>\nRangeIndex: 221144 entries, 0 to 221143\nData columns (total 40 columns):\n #   Column           Non-Null Count   Dtype  \n---  ------           --------------   -----  \n 0   X                213675 non-null  float64\n 1   Y                213675 non-null  float64\n 2   OBJECTID         221144 non-null  int64  \n 3   INCKEY           221144 non-null  int64  \n 4   COLDETKEY        221144 non-null  int64  \n 5   REPORTNO         221144 non-null  object \n 6   STATUS           221144 non-null  object \n 7   ADDRTYPE         217432 non-null  object \n 8   INTKEY           71774 non-null   float64\n 9   LOCATION         216558 non-null  object \n 10  EXCEPTRSNCODE    100741 non-null  object \n 11  EXCEPTRSNDESC    11771 non-null   object \n 12  SEVERITYCODE     221143 non-null  object \n 13  SEVERITYDESC     221144 non-null  object \n 14  COLLISIONTYPE    194740 non-null  object \n 15  PERSONCOUNT      221144 non-null  int64  \n 16  PEDCOUNT         221144 non-null  int64  \n 17  PEDCYLCOUNT      221144 non-null  int64  \n 18  VEHCOUNT         221144 non-null  int64  \n 19  INJURIES         221144 non-null  int64  \n 20  SERIOUSINJURIES  221144 non-null  int64  \n 21  FATALITIES       221144 non-null  int64  \n 22  INCDATE          221144 non-null  object \n 23  INCDTTM          221144 non-null  object \n 24  JUNCTIONTYPE     209182 non-null  object \n 25  SDOT_COLCODE     221143 non-null  float64\n 26  SDOT_COLDESC     221143 non-null  object \n 27  INATTENTIONIND   30188 non-null   object \n 28  UNDERINFL        194760 non-null  object \n 29  WEATHER          194551 non-null  object \n 30  ROADCOND         194631 non-null  object \n 31  LIGHTCOND        194463 non-null  object \n 32  PEDROWNOTGRNT    5188 non-null    object \n 33  SDOTCOLNUM       127205 non-null  float64\n 34  SPEEDING         9912 non-null    object \n 35  ST_COLCODE       211731 non-null  object \n 36  ST_COLDESC       194740 non-null  object \n 37  SEGLANEKEY       221144 non-null  int64  \n 38  CROSSWALKKEY     221144 non-null  int64  \n 39  HITPARKEDCAR     221144 non-null  object \ndtypes: float64(5), int64(12), object(23)\nmemory usage: 67.5+ MB\n"
                }
            ],
            "source": "car_acc_df.info()"
        },
        {
            "cell_type": "markdown",
            "metadata": {},
            "source": "#### Data statistic description"
        },
        {
            "cell_type": "code",
            "execution_count": 5,
            "metadata": {},
            "outputs": [
                {
                    "data": {
                        "text/html": "<div>\n<style scoped>\n    .dataframe tbody tr th:only-of-type {\n        vertical-align: middle;\n    }\n\n    .dataframe tbody tr th {\n        vertical-align: top;\n    }\n\n    .dataframe thead th {\n        text-align: right;\n    }\n</style>\n<table border=\"1\" class=\"dataframe\">\n  <thead>\n    <tr style=\"text-align: right;\">\n      <th></th>\n      <th>X</th>\n      <th>Y</th>\n      <th>OBJECTID</th>\n      <th>INCKEY</th>\n      <th>COLDETKEY</th>\n      <th>REPORTNO</th>\n      <th>STATUS</th>\n      <th>ADDRTYPE</th>\n      <th>INTKEY</th>\n      <th>LOCATION</th>\n      <th>...</th>\n      <th>ROADCOND</th>\n      <th>LIGHTCOND</th>\n      <th>PEDROWNOTGRNT</th>\n      <th>SDOTCOLNUM</th>\n      <th>SPEEDING</th>\n      <th>ST_COLCODE</th>\n      <th>ST_COLDESC</th>\n      <th>SEGLANEKEY</th>\n      <th>CROSSWALKKEY</th>\n      <th>HITPARKEDCAR</th>\n    </tr>\n  </thead>\n  <tbody>\n    <tr>\n      <th>count</th>\n      <td>213675.000000</td>\n      <td>213675.000000</td>\n      <td>221144.000000</td>\n      <td>221144.000000</td>\n      <td>221144.000000</td>\n      <td>221144</td>\n      <td>221144</td>\n      <td>217432</td>\n      <td>71774.000000</td>\n      <td>216558</td>\n      <td>...</td>\n      <td>194631</td>\n      <td>194463</td>\n      <td>5188</td>\n      <td>1.272050e+05</td>\n      <td>9912</td>\n      <td>211731</td>\n      <td>194740</td>\n      <td>221144.000000</td>\n      <td>2.211440e+05</td>\n      <td>221144</td>\n    </tr>\n    <tr>\n      <th>unique</th>\n      <td>NaN</td>\n      <td>NaN</td>\n      <td>NaN</td>\n      <td>NaN</td>\n      <td>NaN</td>\n      <td>221141</td>\n      <td>2</td>\n      <td>3</td>\n      <td>NaN</td>\n      <td>25187</td>\n      <td>...</td>\n      <td>9</td>\n      <td>9</td>\n      <td>1</td>\n      <td>NaN</td>\n      <td>1</td>\n      <td>63</td>\n      <td>62</td>\n      <td>NaN</td>\n      <td>NaN</td>\n      <td>2</td>\n    </tr>\n    <tr>\n      <th>top</th>\n      <td>NaN</td>\n      <td>NaN</td>\n      <td>NaN</td>\n      <td>NaN</td>\n      <td>NaN</td>\n      <td>1780512</td>\n      <td>Matched</td>\n      <td>Block</td>\n      <td>NaN</td>\n      <td>BATTERY ST TUNNEL NB BETWEEN ALASKAN WY VI NB ...</td>\n      <td>...</td>\n      <td>Dry</td>\n      <td>Daylight</td>\n      <td>Y</td>\n      <td>NaN</td>\n      <td>Y</td>\n      <td>32</td>\n      <td>One parked--one moving</td>\n      <td>NaN</td>\n      <td>NaN</td>\n      <td>N</td>\n    </tr>\n    <tr>\n      <th>freq</th>\n      <td>NaN</td>\n      <td>NaN</td>\n      <td>NaN</td>\n      <td>NaN</td>\n      <td>NaN</td>\n      <td>2</td>\n      <td>194813</td>\n      <td>144784</td>\n      <td>NaN</td>\n      <td>298</td>\n      <td>...</td>\n      <td>128150</td>\n      <td>119149</td>\n      <td>5188</td>\n      <td>NaN</td>\n      <td>9912</td>\n      <td>44838</td>\n      <td>44838</td>\n      <td>NaN</td>\n      <td>NaN</td>\n      <td>209193</td>\n    </tr>\n    <tr>\n      <th>mean</th>\n      <td>-122.330748</td>\n      <td>47.620206</td>\n      <td>110572.500000</td>\n      <td>144499.335261</td>\n      <td>144726.158928</td>\n      <td>NaN</td>\n      <td>NaN</td>\n      <td>NaN</td>\n      <td>37617.166258</td>\n      <td>NaN</td>\n      <td>...</td>\n      <td>NaN</td>\n      <td>NaN</td>\n      <td>NaN</td>\n      <td>7.971063e+06</td>\n      <td>NaN</td>\n      <td>NaN</td>\n      <td>NaN</td>\n      <td>261.585804</td>\n      <td>9.591375e+03</td>\n      <td>NaN</td>\n    </tr>\n    <tr>\n      <th>std</th>\n      <td>0.030051</td>\n      <td>0.056033</td>\n      <td>63838.918302</td>\n      <td>88953.719744</td>\n      <td>89326.449360</td>\n      <td>NaN</td>\n      <td>NaN</td>\n      <td>NaN</td>\n      <td>51918.292696</td>\n      <td>NaN</td>\n      <td>...</td>\n      <td>NaN</td>\n      <td>NaN</td>\n      <td>NaN</td>\n      <td>2.611523e+06</td>\n      <td>NaN</td>\n      <td>NaN</td>\n      <td>NaN</td>\n      <td>3249.740639</td>\n      <td>7.151363e+04</td>\n      <td>NaN</td>\n    </tr>\n    <tr>\n      <th>min</th>\n      <td>-122.419091</td>\n      <td>47.495573</td>\n      <td>1.000000</td>\n      <td>1001.000000</td>\n      <td>1001.000000</td>\n      <td>NaN</td>\n      <td>NaN</td>\n      <td>NaN</td>\n      <td>23807.000000</td>\n      <td>NaN</td>\n      <td>...</td>\n      <td>NaN</td>\n      <td>NaN</td>\n      <td>NaN</td>\n      <td>1.007024e+06</td>\n      <td>NaN</td>\n      <td>NaN</td>\n      <td>NaN</td>\n      <td>0.000000</td>\n      <td>0.000000e+00</td>\n      <td>NaN</td>\n    </tr>\n    <tr>\n      <th>25%</th>\n      <td>-122.349280</td>\n      <td>47.577309</td>\n      <td>55286.750000</td>\n      <td>71572.750000</td>\n      <td>71572.750000</td>\n      <td>NaN</td>\n      <td>NaN</td>\n      <td>NaN</td>\n      <td>28653.000000</td>\n      <td>NaN</td>\n      <td>...</td>\n      <td>NaN</td>\n      <td>NaN</td>\n      <td>NaN</td>\n      <td>6.007029e+06</td>\n      <td>NaN</td>\n      <td>NaN</td>\n      <td>NaN</td>\n      <td>0.000000</td>\n      <td>0.000000e+00</td>\n      <td>NaN</td>\n    </tr>\n    <tr>\n      <th>50%</th>\n      <td>-122.330348</td>\n      <td>47.616053</td>\n      <td>110572.500000</td>\n      <td>127061.500000</td>\n      <td>127061.500000</td>\n      <td>NaN</td>\n      <td>NaN</td>\n      <td>NaN</td>\n      <td>29973.000000</td>\n      <td>NaN</td>\n      <td>...</td>\n      <td>NaN</td>\n      <td>NaN</td>\n      <td>NaN</td>\n      <td>8.033011e+06</td>\n      <td>NaN</td>\n      <td>NaN</td>\n      <td>NaN</td>\n      <td>0.000000</td>\n      <td>0.000000e+00</td>\n      <td>NaN</td>\n    </tr>\n    <tr>\n      <th>75%</th>\n      <td>-122.311998</td>\n      <td>47.664282</td>\n      <td>165858.250000</td>\n      <td>209528.250000</td>\n      <td>209748.250000</td>\n      <td>NaN</td>\n      <td>NaN</td>\n      <td>NaN</td>\n      <td>33983.750000</td>\n      <td>NaN</td>\n      <td>...</td>\n      <td>NaN</td>\n      <td>NaN</td>\n      <td>NaN</td>\n      <td>1.018101e+07</td>\n      <td>NaN</td>\n      <td>NaN</td>\n      <td>NaN</td>\n      <td>0.000000</td>\n      <td>0.000000e+00</td>\n      <td>NaN</td>\n    </tr>\n    <tr>\n      <th>max</th>\n      <td>-122.238949</td>\n      <td>47.734142</td>\n      <td>221144.000000</td>\n      <td>333528.000000</td>\n      <td>335028.000000</td>\n      <td>NaN</td>\n      <td>NaN</td>\n      <td>NaN</td>\n      <td>757580.000000</td>\n      <td>NaN</td>\n      <td>...</td>\n      <td>NaN</td>\n      <td>NaN</td>\n      <td>NaN</td>\n      <td>1.307202e+07</td>\n      <td>NaN</td>\n      <td>NaN</td>\n      <td>NaN</td>\n      <td>525241.000000</td>\n      <td>5.239700e+06</td>\n      <td>NaN</td>\n    </tr>\n  </tbody>\n</table>\n<p>11 rows \u00d7 40 columns</p>\n</div>",
                        "text/plain": "                    X              Y       OBJECTID         INCKEY  \\\ncount   213675.000000  213675.000000  221144.000000  221144.000000   \nunique            NaN            NaN            NaN            NaN   \ntop               NaN            NaN            NaN            NaN   \nfreq              NaN            NaN            NaN            NaN   \nmean      -122.330748      47.620206  110572.500000  144499.335261   \nstd          0.030051       0.056033   63838.918302   88953.719744   \nmin       -122.419091      47.495573       1.000000    1001.000000   \n25%       -122.349280      47.577309   55286.750000   71572.750000   \n50%       -122.330348      47.616053  110572.500000  127061.500000   \n75%       -122.311998      47.664282  165858.250000  209528.250000   \nmax       -122.238949      47.734142  221144.000000  333528.000000   \n\n            COLDETKEY REPORTNO   STATUS ADDRTYPE         INTKEY  \\\ncount   221144.000000   221144   221144   217432   71774.000000   \nunique            NaN   221141        2        3            NaN   \ntop               NaN  1780512  Matched    Block            NaN   \nfreq              NaN        2   194813   144784            NaN   \nmean    144726.158928      NaN      NaN      NaN   37617.166258   \nstd      89326.449360      NaN      NaN      NaN   51918.292696   \nmin       1001.000000      NaN      NaN      NaN   23807.000000   \n25%      71572.750000      NaN      NaN      NaN   28653.000000   \n50%     127061.500000      NaN      NaN      NaN   29973.000000   \n75%     209748.250000      NaN      NaN      NaN   33983.750000   \nmax     335028.000000      NaN      NaN      NaN  757580.000000   \n\n                                                 LOCATION  ... ROADCOND  \\\ncount                                              216558  ...   194631   \nunique                                              25187  ...        9   \ntop     BATTERY ST TUNNEL NB BETWEEN ALASKAN WY VI NB ...  ...      Dry   \nfreq                                                  298  ...   128150   \nmean                                                  NaN  ...      NaN   \nstd                                                   NaN  ...      NaN   \nmin                                                   NaN  ...      NaN   \n25%                                                   NaN  ...      NaN   \n50%                                                   NaN  ...      NaN   \n75%                                                   NaN  ...      NaN   \nmax                                                   NaN  ...      NaN   \n\n       LIGHTCOND PEDROWNOTGRNT    SDOTCOLNUM SPEEDING  ST_COLCODE  \\\ncount     194463          5188  1.272050e+05     9912      211731   \nunique         9             1           NaN        1          63   \ntop     Daylight             Y           NaN        Y          32   \nfreq      119149          5188           NaN     9912       44838   \nmean         NaN           NaN  7.971063e+06      NaN         NaN   \nstd          NaN           NaN  2.611523e+06      NaN         NaN   \nmin          NaN           NaN  1.007024e+06      NaN         NaN   \n25%          NaN           NaN  6.007029e+06      NaN         NaN   \n50%          NaN           NaN  8.033011e+06      NaN         NaN   \n75%          NaN           NaN  1.018101e+07      NaN         NaN   \nmax          NaN           NaN  1.307202e+07      NaN         NaN   \n\n                    ST_COLDESC     SEGLANEKEY  CROSSWALKKEY  HITPARKEDCAR  \ncount                   194740  221144.000000  2.211440e+05        221144  \nunique                      62            NaN           NaN             2  \ntop     One parked--one moving            NaN           NaN             N  \nfreq                     44838            NaN           NaN        209193  \nmean                       NaN     261.585804  9.591375e+03           NaN  \nstd                        NaN    3249.740639  7.151363e+04           NaN  \nmin                        NaN       0.000000  0.000000e+00           NaN  \n25%                        NaN       0.000000  0.000000e+00           NaN  \n50%                        NaN       0.000000  0.000000e+00           NaN  \n75%                        NaN       0.000000  0.000000e+00           NaN  \nmax                        NaN  525241.000000  5.239700e+06           NaN  \n\n[11 rows x 40 columns]"
                    },
                    "execution_count": 5,
                    "metadata": {},
                    "output_type": "execute_result"
                }
            ],
            "source": "car_acc_df.describe(include=\"all\")"
        },
        {
            "cell_type": "markdown",
            "metadata": {},
            "source": "## 2.4 Parameter Selection <a name=\"parameter\"></a>\nbased on the defined problem and the exploration of the data, take 'SEVERITYCODE' as the target and take the following parameters as the independent variables:"
        },
        {
            "cell_type": "markdown",
            "metadata": {},
            "source": "| Variables | Description |\n| :- | -: |\n| X | Coordinates |\n| Y | Coordinates |\n| WEATHER | A description of the weather conditions during the time of the collision |\n| SPEEDING | Whether or not speeding was a factor in the collision. (Y/N) |\n| LIGHTCOND | The light conditions during the collision |\n| ROADCOND | The condition of the road during the collision |\n| JUNCTION TYPE | Category of junction at which collision took place |\n| PERSONCOUNT | The total number of people involved in the collision |\n| VEHCOUNT | The number of vehicles involved in the collision |"
        },
        {
            "cell_type": "markdown",
            "metadata": {},
            "source": "<a><img src=\"table 1.jpg\" width=\"700\" align=\"center\"></a>\n#### note:  X and Y coordinates are for a clustering model at the end of the notebook"
        },
        {
            "cell_type": "markdown",
            "metadata": {},
            "source": "## 2.5 Visualization <a name=\"visual\"></a>\nimport necesary packages for data preparation"
        },
        {
            "cell_type": "code",
            "execution_count": null,
            "metadata": {},
            "outputs": [],
            "source": ""
        },
        {
            "cell_type": "markdown",
            "metadata": {},
            "source": "# 3. Data Preparation<a name=\"data_pr\"></a>\n<hr style=\"border:1px solid black\"> </hr>\nIn this section the dataset is prepared, only the data that is needed is taken, cleaned, balanced, standardized and divided into training and testing arrays."
        },
        {
            "cell_type": "markdown",
            "metadata": {},
            "source": "## 3.1 Import Packages <a name=\"imp_pack_data_pre\"></a>\nimport necesary packages for data preparation"
        },
        {
            "cell_type": "code",
            "execution_count": 53,
            "metadata": {},
            "outputs": [
                {
                    "name": "stdout",
                    "output_type": "stream",
                    "text": "All Packages Installed\n"
                }
            ],
            "source": "try:\n    import numpy as np\n    from sklearn import preprocessing\n    from sklearn.utils import resample\n    from sklearn.model_selection import train_test_split\n    print(\"All Packages Installed\")\nexcept:\n    pass"
        },
        {
            "cell_type": "markdown",
            "metadata": {},
            "source": "## 3.2 Data Separation <a name=\"data_se\"></a>\nvariables and target are taken to a new Dataset"
        },
        {
            "cell_type": "code",
            "execution_count": 7,
            "metadata": {},
            "outputs": [
                {
                    "data": {
                        "text/html": "<div>\n<style scoped>\n    .dataframe tbody tr th:only-of-type {\n        vertical-align: middle;\n    }\n\n    .dataframe tbody tr th {\n        vertical-align: top;\n    }\n\n    .dataframe thead th {\n        text-align: right;\n    }\n</style>\n<table border=\"1\" class=\"dataframe\">\n  <thead>\n    <tr style=\"text-align: right;\">\n      <th></th>\n      <th>WEATHER</th>\n      <th>SPEEDING</th>\n      <th>LIGHTCOND</th>\n      <th>ROADCOND</th>\n      <th>JUNCTIONTYPE</th>\n      <th>PERSONCOUNT</th>\n      <th>VEHCOUNT</th>\n      <th>SEVERITYCODE</th>\n    </tr>\n  </thead>\n  <tbody>\n    <tr>\n      <th>0</th>\n      <td>NaN</td>\n      <td>NaN</td>\n      <td>NaN</td>\n      <td>NaN</td>\n      <td>Mid-Block (not related to intersection)</td>\n      <td>0</td>\n      <td>0</td>\n      <td>0</td>\n    </tr>\n    <tr>\n      <th>1</th>\n      <td>NaN</td>\n      <td>NaN</td>\n      <td>NaN</td>\n      <td>NaN</td>\n      <td>NaN</td>\n      <td>0</td>\n      <td>0</td>\n      <td>0</td>\n    </tr>\n    <tr>\n      <th>2</th>\n      <td>Overcast</td>\n      <td>NaN</td>\n      <td>Daylight</td>\n      <td>Dry</td>\n      <td>Mid-Block (not related to intersection)</td>\n      <td>2</td>\n      <td>2</td>\n      <td>1</td>\n    </tr>\n    <tr>\n      <th>3</th>\n      <td>Clear</td>\n      <td>NaN</td>\n      <td>Other</td>\n      <td>Dry</td>\n      <td>Mid-Block (not related to intersection)</td>\n      <td>2</td>\n      <td>2</td>\n      <td>1</td>\n    </tr>\n    <tr>\n      <th>4</th>\n      <td>Clear</td>\n      <td>NaN</td>\n      <td>Daylight</td>\n      <td>Dry</td>\n      <td>Mid-Block (but intersection related)</td>\n      <td>2</td>\n      <td>2</td>\n      <td>1</td>\n    </tr>\n  </tbody>\n</table>\n</div>",
                        "text/plain": "    WEATHER SPEEDING LIGHTCOND ROADCOND  \\\n0       NaN      NaN       NaN      NaN   \n1       NaN      NaN       NaN      NaN   \n2  Overcast      NaN  Daylight      Dry   \n3     Clear      NaN     Other      Dry   \n4     Clear      NaN  Daylight      Dry   \n\n                              JUNCTIONTYPE  PERSONCOUNT  VEHCOUNT SEVERITYCODE  \n0  Mid-Block (not related to intersection)            0         0            0  \n1                                      NaN            0         0            0  \n2  Mid-Block (not related to intersection)            2         2            1  \n3  Mid-Block (not related to intersection)            2         2            1  \n4     Mid-Block (but intersection related)            2         2            1  "
                    },
                    "execution_count": 7,
                    "metadata": {},
                    "output_type": "execute_result"
                }
            ],
            "source": "car_acc = car_acc_df[[\"WEATHER\",\"SPEEDING\",\"LIGHTCOND\",\"ROADCOND\",\"JUNCTIONTYPE\",\"PERSONCOUNT\",\"VEHCOUNT\",\"SEVERITYCODE\"]]\ncar_acc.head()"
        },
        {
            "cell_type": "markdown",
            "metadata": {},
            "source": "## 3.3 Data Cleaning <a name=\"data_cl\"></a>\ndata is cleaned variable by variable"
        },
        {
            "cell_type": "markdown",
            "metadata": {},
            "source": "#### WEATHER\n<hr style=\"border:1px solid green\"> </hr>"
        },
        {
            "cell_type": "code",
            "execution_count": 8,
            "metadata": {},
            "outputs": [
                {
                    "data": {
                        "text/plain": "Clear                       114342\nRaining                      34019\nOvercast                     28504\nNaN                          26593\nUnknown                      15131\nSnowing                        919\nOther                          851\nFog/Smog/Smoke                 577\nSleet/Hail/Freezing Rain       116\nBlowing Sand/Dirt               56\nSevere Crosswind                26\nPartly Cloudy                    9\nBlowing Snow                     1\nName: WEATHER, dtype: int64"
                    },
                    "execution_count": 8,
                    "metadata": {},
                    "output_type": "execute_result"
                }
            ],
            "source": "car_acc.WEATHER.value_counts(dropna=False)"
        },
        {
            "cell_type": "markdown",
            "metadata": {},
            "source": "lets take the following actions:\n* Replace NaN values with the mode\n* Replace 'Unknown' values with the mode\n* Drop 'Other' values"
        },
        {
            "cell_type": "code",
            "execution_count": 9,
            "metadata": {},
            "outputs": [],
            "source": "pd.set_option('mode.chained_assignment', None)\ncar_acc['WEATHER'].fillna(car_acc['WEATHER'].mode()[0], inplace=True)\ncar_acc['WEATHER'] = car_acc['WEATHER'].replace(['Unknown'],car_acc['WEATHER'].mode()[0])\ncar_acc = car_acc[car_acc.WEATHER !=\"Other\"]"
        },
        {
            "cell_type": "code",
            "execution_count": 10,
            "metadata": {},
            "outputs": [
                {
                    "data": {
                        "text/plain": "Clear                       156066\nRaining                      34019\nOvercast                     28504\nSnowing                        919\nFog/Smog/Smoke                 577\nSleet/Hail/Freezing Rain       116\nBlowing Sand/Dirt               56\nSevere Crosswind                26\nPartly Cloudy                    9\nBlowing Snow                     1\nName: WEATHER, dtype: int64"
                    },
                    "execution_count": 10,
                    "metadata": {},
                    "output_type": "execute_result"
                }
            ],
            "source": "car_acc.WEATHER.value_counts(dropna=False)"
        },
        {
            "cell_type": "markdown",
            "metadata": {},
            "source": "#### SPEEDING\n<hr style=\"border:1px solid green\"> </hr>"
        },
        {
            "cell_type": "code",
            "execution_count": 11,
            "metadata": {},
            "outputs": [
                {
                    "data": {
                        "text/plain": "NaN    210406\nY        9887\nName: SPEEDING, dtype: int64"
                    },
                    "execution_count": 11,
                    "metadata": {},
                    "output_type": "execute_result"
                }
            ],
            "source": "car_acc.SPEEDING.value_counts(dropna=False)"
        },
        {
            "cell_type": "markdown",
            "metadata": {},
            "source": "In the metadata of the database we can se that this value would take 2 values 'Y' or 'N', so lets change NaN values to 'N'"
        },
        {
            "cell_type": "code",
            "execution_count": 12,
            "metadata": {},
            "outputs": [],
            "source": "car_acc['SPEEDING'] = car_acc['SPEEDING'].fillna('N')"
        },
        {
            "cell_type": "code",
            "execution_count": 13,
            "metadata": {},
            "outputs": [
                {
                    "data": {
                        "text/plain": "N    210406\nY      9887\nName: SPEEDING, dtype: int64"
                    },
                    "execution_count": 13,
                    "metadata": {},
                    "output_type": "execute_result"
                }
            ],
            "source": "car_acc.SPEEDING.value_counts(dropna=False)"
        },
        {
            "cell_type": "markdown",
            "metadata": {},
            "source": "#### LIGHTCOND\n<hr style=\"border:1px solid green\"> </hr>"
        },
        {
            "cell_type": "code",
            "execution_count": 14,
            "metadata": {},
            "outputs": [
                {
                    "data": {
                        "text/plain": "Daylight                    118840\nDark - Street Lights On      49904\nNaN                          26675\nUnknown                      13199\nDusk                          6051\nDawn                          2590\nDark - No Street Lights       1564\nDark - Street Lights Off      1230\nOther                          224\nDark - Unknown Lighting         16\nName: LIGHTCOND, dtype: int64"
                    },
                    "execution_count": 14,
                    "metadata": {},
                    "output_type": "execute_result"
                }
            ],
            "source": "car_acc.LIGHTCOND.value_counts(dropna=False)"
        },
        {
            "cell_type": "markdown",
            "metadata": {},
            "source": "lets take the following actions:\n* Replace NaN values with the mode\n* Replace 'Unknown' values with the mode\n* Drop 'Other' values\n* Combine 'Dark - No Street Lights' and 'Dark - Street Lights Off' into a new category 'Dark - No Street Lights / Street Lights Off'\n* Replace 'Dark - Unknown Lighting' to the mode of dark values 'Dark - Street Lights On'"
        },
        {
            "cell_type": "code",
            "execution_count": 15,
            "metadata": {},
            "outputs": [],
            "source": "car_acc['LIGHTCOND'].fillna(car_acc['LIGHTCOND'].mode()[0], inplace=True)\ncar_acc['LIGHTCOND'] = car_acc['LIGHTCOND'].replace(['Unknown'],car_acc['LIGHTCOND'].mode()[0])\ncar_acc = car_acc[car_acc.LIGHTCOND !=\"Other\"]\ncar_acc['LIGHTCOND'] = car_acc['LIGHTCOND'].replace(['Dark - No Street Lights'],'Dark - No Street Lights / Street Lights Off')\ncar_acc['LIGHTCOND'] = car_acc['LIGHTCOND'].replace(['Dark - Street Lights Off'],'Dark - No Street Lights / Street Lights Off')"
        },
        {
            "cell_type": "code",
            "execution_count": 16,
            "metadata": {},
            "outputs": [
                {
                    "data": {
                        "text/plain": "Daylight                                       158714\nDark - Street Lights On                         49904\nDusk                                             6051\nDark - No Street Lights / Street Lights Off      2794\nDawn                                             2590\nDark - Unknown Lighting                            16\nName: LIGHTCOND, dtype: int64"
                    },
                    "execution_count": 16,
                    "metadata": {},
                    "output_type": "execute_result"
                }
            ],
            "source": "car_acc.LIGHTCOND.value_counts(dropna=False)"
        },
        {
            "cell_type": "markdown",
            "metadata": {},
            "source": "#### ROADCOND\n<hr style=\"border:1px solid green\"> </hr>"
        },
        {
            "cell_type": "code",
            "execution_count": 17,
            "metadata": {},
            "outputs": [
                {
                    "data": {
                        "text/plain": "Dry               127857\nWet                48547\nNaN                26511\nUnknown            14565\nIce                 1211\nSnow/Slush          1000\nOther                123\nStanding Water       116\nSand/Mud/Dirt         76\nOil                   63\nName: ROADCOND, dtype: int64"
                    },
                    "execution_count": 17,
                    "metadata": {},
                    "output_type": "execute_result"
                }
            ],
            "source": "car_acc.ROADCOND.value_counts(dropna=False)"
        },
        {
            "cell_type": "markdown",
            "metadata": {},
            "source": "lets take the following actions:\n* Replace NaN values with the mode\n* Replace 'Unknown' values with the mode"
        },
        {
            "cell_type": "code",
            "execution_count": 18,
            "metadata": {},
            "outputs": [],
            "source": "car_acc['ROADCOND'].fillna(car_acc['ROADCOND'].mode()[0], inplace=True)\ncar_acc['ROADCOND'] = car_acc['ROADCOND'].replace(['Unknown'],car_acc['ROADCOND'].mode()[0])"
        },
        {
            "cell_type": "code",
            "execution_count": 19,
            "metadata": {},
            "outputs": [
                {
                    "data": {
                        "text/plain": "Dry               168933\nWet                48547\nIce                 1211\nSnow/Slush          1000\nOther                123\nStanding Water       116\nSand/Mud/Dirt         76\nOil                   63\nName: ROADCOND, dtype: int64"
                    },
                    "execution_count": 19,
                    "metadata": {},
                    "output_type": "execute_result"
                }
            ],
            "source": "car_acc.ROADCOND.value_counts(dropna=False)"
        },
        {
            "cell_type": "markdown",
            "metadata": {},
            "source": "#### JUNCTIONTYPE\n<hr style=\"border:1px solid green\"> </hr>"
        },
        {
            "cell_type": "code",
            "execution_count": 20,
            "metadata": {},
            "outputs": [
                {
                    "data": {
                        "text/plain": "Mid-Block (not related to intersection)              100851\nAt Intersection (intersection related)                68901\nMid-Block (but intersection related)                  24313\nNaN                                                   11864\nDriveway Junction                                     11445\nAt Intersection (but not related to intersection)      2486\nRamp Junction                                           188\nUnknown                                                  21\nName: JUNCTIONTYPE, dtype: int64"
                    },
                    "execution_count": 20,
                    "metadata": {},
                    "output_type": "execute_result"
                }
            ],
            "source": "car_acc.JUNCTIONTYPE.value_counts(dropna=False)"
        },
        {
            "cell_type": "markdown",
            "metadata": {},
            "source": "lets take the following actions:\n* Replace NaN values with the mode\n* Drop 'Unknown' values"
        },
        {
            "cell_type": "code",
            "execution_count": 21,
            "metadata": {},
            "outputs": [],
            "source": "car_acc['JUNCTIONTYPE'].fillna(car_acc['JUNCTIONTYPE'].mode()[0], inplace=True)\ncar_acc = car_acc[car_acc.JUNCTIONTYPE !=\"Unknown\"]"
        },
        {
            "cell_type": "code",
            "execution_count": 22,
            "metadata": {},
            "outputs": [
                {
                    "data": {
                        "text/plain": "Mid-Block (not related to intersection)              112715\nAt Intersection (intersection related)                68901\nMid-Block (but intersection related)                  24313\nDriveway Junction                                     11445\nAt Intersection (but not related to intersection)      2486\nRamp Junction                                           188\nName: JUNCTIONTYPE, dtype: int64"
                    },
                    "execution_count": 22,
                    "metadata": {},
                    "output_type": "execute_result"
                }
            ],
            "source": "car_acc.JUNCTIONTYPE.value_counts(dropna=False)"
        },
        {
            "cell_type": "markdown",
            "metadata": {},
            "source": "#### PERSONCOUNT\n<hr style=\"border:1px solid green\"> </hr>"
        },
        {
            "cell_type": "markdown",
            "metadata": {},
            "source": "Check if there are missing values in this column"
        },
        {
            "cell_type": "code",
            "execution_count": 23,
            "metadata": {},
            "outputs": [
                {
                    "name": "stdout",
                    "output_type": "stream",
                    "text": "NaN Values in this column : False\n"
                }
            ],
            "source": "print(\"NaN Values in this column :\",car_acc.PERSONCOUNT.isnull().values.any())"
        },
        {
            "cell_type": "markdown",
            "metadata": {},
            "source": "#### VEHCOUNT\n<hr style=\"border:1px solid green\"> </hr>"
        },
        {
            "cell_type": "markdown",
            "metadata": {},
            "source": "Check if there are missing values in this column"
        },
        {
            "cell_type": "code",
            "execution_count": 24,
            "metadata": {},
            "outputs": [
                {
                    "name": "stdout",
                    "output_type": "stream",
                    "text": "NaN Values in this column : False\n"
                }
            ],
            "source": "print(\"NaN Values in this column :\",car_acc.VEHCOUNT.isnull().values.any())"
        },
        {
            "cell_type": "markdown",
            "metadata": {},
            "source": "#### SEVERITYCODE\n<hr style=\"border:1px solid green\"> </hr>"
        },
        {
            "cell_type": "code",
            "execution_count": 25,
            "metadata": {},
            "outputs": [
                {
                    "data": {
                        "text/plain": "1      136516\n2       58492\n0       21607\n2b       3086\n3         346\nNaN         1\nName: SEVERITYCODE, dtype: int64"
                    },
                    "execution_count": 25,
                    "metadata": {},
                    "output_type": "execute_result"
                }
            ],
            "source": "car_acc.SEVERITYCODE.value_counts(dropna=False)"
        },
        {
            "cell_type": "markdown",
            "metadata": {},
            "source": "lets take the following actions:\n* Replace NaN values with the mode\n* Replace '3' value to '4' and Replace '2b' value to '3'"
        },
        {
            "cell_type": "code",
            "execution_count": 26,
            "metadata": {},
            "outputs": [],
            "source": "car_acc['SEVERITYCODE'].fillna(car_acc['SEVERITYCODE'].mode()[0], inplace=True)\ncar_acc['SEVERITYCODE'] = car_acc['SEVERITYCODE'].replace(['3'],'4')\ncar_acc['SEVERITYCODE'] = car_acc['SEVERITYCODE'].replace(['2b'],'3')"
        },
        {
            "cell_type": "code",
            "execution_count": 27,
            "metadata": {},
            "outputs": [
                {
                    "data": {
                        "text/plain": "1    136517\n2     58492\n0     21607\n3      3086\n4       346\nName: SEVERITYCODE, dtype: int64"
                    },
                    "execution_count": 27,
                    "metadata": {},
                    "output_type": "execute_result"
                }
            ],
            "source": "car_acc.SEVERITYCODE.value_counts(dropna=False)"
        },
        {
            "cell_type": "markdown",
            "metadata": {},
            "source": "## 3.4 Categorize Data <a name=\"cat_data\"></a>\n### category variables\nsome variables need to ve comverted to categorical and to do that its necesary to have the data in numpy format"
        },
        {
            "cell_type": "code",
            "execution_count": 28,
            "metadata": {},
            "outputs": [
                {
                    "data": {
                        "text/plain": "array([['Clear', 'N', 'Daylight', 'Dry',\n        'Mid-Block (not related to intersection)', 0, 0],\n       ['Clear', 'N', 'Daylight', 'Dry',\n        'Mid-Block (not related to intersection)', 0, 0],\n       ['Overcast', 'N', 'Daylight', 'Dry',\n        'Mid-Block (not related to intersection)', 2, 2],\n       ['Clear', 'N', 'Daylight', 'Dry',\n        'Mid-Block (but intersection related)', 2, 2],\n       ['Clear', 'N', 'Daylight', 'Dry',\n        'At Intersection (intersection related)', 4, 2]], dtype=object)"
                    },
                    "execution_count": 28,
                    "metadata": {},
                    "output_type": "execute_result"
                }
            ],
            "source": "x = car_acc[[\"WEATHER\",\"SPEEDING\",\"LIGHTCOND\",\"ROADCOND\",\"JUNCTIONTYPE\",\"PERSONCOUNT\",\"VEHCOUNT\"]].values\ny = car_acc[[\"SEVERITYCODE\"]].values\nx[0:5]"
        },
        {
            "cell_type": "markdown",
            "metadata": {},
            "source": "categorize variables using sklearn.preprocessing.LabelEncoder() and almacening the mapping in dictionaries"
        },
        {
            "cell_type": "code",
            "execution_count": 29,
            "metadata": {},
            "outputs": [],
            "source": "le_weather = preprocessing.LabelEncoder()\nle_weather.fit(list(car_acc[\"WEATHER\"].unique()))\nle_weather_mapping = dict(zip(le_weather.classes_, le_weather.transform(le_weather.classes_)))\nx[:,0] = le_weather.transform(x[:,0]) \n\nle_speeding = preprocessing.LabelEncoder()\nle_speeding.fit(list(car_acc[\"SPEEDING\"].unique()))\nle_speeding_mapping = dict(zip(le_speeding.classes_, le_speeding.transform(le_speeding.classes_)))\nx[:,1] = le_speeding.transform(x[:,1]) \n\nle_lightcond = preprocessing.LabelEncoder()\nle_lightcond.fit(list(car_acc[\"LIGHTCOND\"].unique()))\nle_lightcond_mapping = dict(zip(le_lightcond.classes_, le_lightcond.transform(le_lightcond.classes_)))\nx[:,2] = le_lightcond.transform(x[:,2])\n\nle_roadcond = preprocessing.LabelEncoder()\nle_roadcond.fit(list(car_acc[\"ROADCOND\"].unique()))\nle_roadcond_mapping = dict(zip(le_roadcond.classes_, le_roadcond.transform(le_roadcond.classes_)))\nx[:,3] = le_roadcond.transform(x[:,3])\n\nle_junctiontype = preprocessing.LabelEncoder()\nle_junctiontype.fit(list(car_acc[\"JUNCTIONTYPE\"].unique()))\nle_junctiontype_mapping = dict(zip(le_junctiontype.classes_, le_junctiontype.transform(le_junctiontype.classes_)))\nx[:,4] = le_junctiontype.transform(x[:,4])"
        },
        {
            "cell_type": "markdown",
            "metadata": {},
            "source": "Now lets see how the data has been transform"
        },
        {
            "cell_type": "code",
            "execution_count": 30,
            "metadata": {},
            "outputs": [
                {
                    "data": {
                        "text/plain": "array([[2, 0, 4, 0, 4, 0, 0],\n       [2, 0, 4, 0, 4, 0, 0],\n       [4, 0, 4, 0, 4, 2, 2],\n       [2, 0, 4, 0, 3, 2, 2],\n       [2, 0, 4, 0, 1, 4, 2]], dtype=object)"
                    },
                    "execution_count": 30,
                    "metadata": {},
                    "output_type": "execute_result"
                }
            ],
            "source": "x[0:5]"
        },
        {
            "cell_type": "markdown",
            "metadata": {},
            "source": "now lets look the data in dataframe format"
        },
        {
            "cell_type": "code",
            "execution_count": 31,
            "metadata": {},
            "outputs": [
                {
                    "data": {
                        "text/html": "<div>\n<style scoped>\n    .dataframe tbody tr th:only-of-type {\n        vertical-align: middle;\n    }\n\n    .dataframe tbody tr th {\n        vertical-align: top;\n    }\n\n    .dataframe thead th {\n        text-align: right;\n    }\n</style>\n<table border=\"1\" class=\"dataframe\">\n  <thead>\n    <tr style=\"text-align: right;\">\n      <th></th>\n      <th>WEATHER</th>\n      <th>SPEEDING</th>\n      <th>LIGHTCOND</th>\n      <th>ROADCOND</th>\n      <th>JUNCTIONTYPE</th>\n      <th>PERSONCOUNT</th>\n      <th>VEHCOUNT</th>\n      <th>SEVERITYCODE</th>\n    </tr>\n  </thead>\n  <tbody>\n    <tr>\n      <th>0</th>\n      <td>2</td>\n      <td>0</td>\n      <td>4</td>\n      <td>0</td>\n      <td>4</td>\n      <td>0</td>\n      <td>0</td>\n      <td>0</td>\n    </tr>\n    <tr>\n      <th>1</th>\n      <td>2</td>\n      <td>0</td>\n      <td>4</td>\n      <td>0</td>\n      <td>4</td>\n      <td>0</td>\n      <td>0</td>\n      <td>0</td>\n    </tr>\n    <tr>\n      <th>2</th>\n      <td>4</td>\n      <td>0</td>\n      <td>4</td>\n      <td>0</td>\n      <td>4</td>\n      <td>2</td>\n      <td>2</td>\n      <td>1</td>\n    </tr>\n    <tr>\n      <th>3</th>\n      <td>2</td>\n      <td>0</td>\n      <td>4</td>\n      <td>0</td>\n      <td>3</td>\n      <td>2</td>\n      <td>2</td>\n      <td>1</td>\n    </tr>\n    <tr>\n      <th>4</th>\n      <td>2</td>\n      <td>0</td>\n      <td>4</td>\n      <td>0</td>\n      <td>1</td>\n      <td>4</td>\n      <td>2</td>\n      <td>2</td>\n    </tr>\n  </tbody>\n</table>\n</div>",
                        "text/plain": "  WEATHER SPEEDING LIGHTCOND ROADCOND JUNCTIONTYPE PERSONCOUNT VEHCOUNT  \\\n0       2        0         4        0            4           0        0   \n1       2        0         4        0            4           0        0   \n2       4        0         4        0            4           2        2   \n3       2        0         4        0            3           2        2   \n4       2        0         4        0            1           4        2   \n\n  SEVERITYCODE  \n0            0  \n1            0  \n2            1  \n3            1  \n4            2  "
                    },
                    "execution_count": 31,
                    "metadata": {},
                    "output_type": "execute_result"
                }
            ],
            "source": "car_acc = pd.DataFrame(x)\ncar_acc.columns = [\"WEATHER\",\"SPEEDING\",\"LIGHTCOND\",\"ROADCOND\",\"JUNCTIONTYPE\",\"PERSONCOUNT\",\"VEHCOUNT\"]\ncar_acc['SEVERITYCODE'] = y\ncar_acc.head()"
        },
        {
            "cell_type": "markdown",
            "metadata": {},
            "source": "### Continuos Variables"
        },
        {
            "cell_type": "code",
            "execution_count": 32,
            "metadata": {},
            "outputs": [
                {
                    "data": {
                        "text/html": "<div>\n<style scoped>\n    .dataframe tbody tr th:only-of-type {\n        vertical-align: middle;\n    }\n\n    .dataframe tbody tr th {\n        vertical-align: top;\n    }\n\n    .dataframe thead th {\n        text-align: right;\n    }\n</style>\n<table border=\"1\" class=\"dataframe\">\n  <thead>\n    <tr style=\"text-align: right;\">\n      <th></th>\n      <th>WEATHER</th>\n      <th>SPEEDING</th>\n      <th>LIGHTCOND</th>\n      <th>ROADCOND</th>\n      <th>JUNCTIONTYPE</th>\n      <th>PERSONCOUNT</th>\n      <th>VEHCOUNT</th>\n      <th>SEVERITYCODE</th>\n      <th>PERSONCOUNT_CAT</th>\n      <th>VEHCOUNT_CAT</th>\n    </tr>\n  </thead>\n  <tbody>\n    <tr>\n      <th>0</th>\n      <td>2</td>\n      <td>0</td>\n      <td>4</td>\n      <td>0</td>\n      <td>4</td>\n      <td>0</td>\n      <td>0</td>\n      <td>0</td>\n      <td>(-0.001, 2.0]</td>\n      <td>(-0.001, 2.0]</td>\n    </tr>\n    <tr>\n      <th>1</th>\n      <td>2</td>\n      <td>0</td>\n      <td>4</td>\n      <td>0</td>\n      <td>4</td>\n      <td>0</td>\n      <td>0</td>\n      <td>0</td>\n      <td>(-0.001, 2.0]</td>\n      <td>(-0.001, 2.0]</td>\n    </tr>\n    <tr>\n      <th>2</th>\n      <td>4</td>\n      <td>0</td>\n      <td>4</td>\n      <td>0</td>\n      <td>4</td>\n      <td>2</td>\n      <td>2</td>\n      <td>1</td>\n      <td>(-0.001, 2.0]</td>\n      <td>(-0.001, 2.0]</td>\n    </tr>\n    <tr>\n      <th>3</th>\n      <td>2</td>\n      <td>0</td>\n      <td>4</td>\n      <td>0</td>\n      <td>3</td>\n      <td>2</td>\n      <td>2</td>\n      <td>1</td>\n      <td>(-0.001, 2.0]</td>\n      <td>(-0.001, 2.0]</td>\n    </tr>\n    <tr>\n      <th>4</th>\n      <td>2</td>\n      <td>0</td>\n      <td>4</td>\n      <td>0</td>\n      <td>1</td>\n      <td>4</td>\n      <td>2</td>\n      <td>2</td>\n      <td>(3.0, 93.0]</td>\n      <td>(3.0, 93.0]</td>\n    </tr>\n  </tbody>\n</table>\n</div>",
                        "text/plain": "  WEATHER SPEEDING LIGHTCOND ROADCOND JUNCTIONTYPE PERSONCOUNT VEHCOUNT  \\\n0       2        0         4        0            4           0        0   \n1       2        0         4        0            4           0        0   \n2       4        0         4        0            4           2        2   \n3       2        0         4        0            3           2        2   \n4       2        0         4        0            1           4        2   \n\n  SEVERITYCODE PERSONCOUNT_CAT   VEHCOUNT_CAT  \n0            0   (-0.001, 2.0]  (-0.001, 2.0]  \n1            0   (-0.001, 2.0]  (-0.001, 2.0]  \n2            1   (-0.001, 2.0]  (-0.001, 2.0]  \n3            1   (-0.001, 2.0]  (-0.001, 2.0]  \n4            2     (3.0, 93.0]    (3.0, 93.0]  "
                    },
                    "execution_count": 32,
                    "metadata": {},
                    "output_type": "execute_result"
                }
            ],
            "source": "car_acc['PERSONCOUNT_CAT'] = pd.qcut(car_acc['PERSONCOUNT'], q=4, duplicates='drop')\ncar_acc['VEHCOUNT_CAT'] = pd.qcut(car_acc['PERSONCOUNT'], q=4, duplicates='drop')\ncar_acc.head()"
        },
        {
            "cell_type": "code",
            "execution_count": 33,
            "metadata": {},
            "outputs": [
                {
                    "data": {
                        "text/plain": "array([[2, 0, 4, 0, 4, 0, 0, '0', 0, 0],\n       [2, 0, 4, 0, 4, 0, 0, '0', 0, 0],\n       [4, 0, 4, 0, 4, 2, 2, '1', 0, 0],\n       [2, 0, 4, 0, 3, 2, 2, '1', 0, 0],\n       [2, 0, 4, 0, 1, 4, 2, '2', 2, 2]], dtype=object)"
                    },
                    "execution_count": 33,
                    "metadata": {},
                    "output_type": "execute_result"
                }
            ],
            "source": "x = car_acc[[\"WEATHER\",\"SPEEDING\",\"LIGHTCOND\",\"ROADCOND\",\"JUNCTIONTYPE\",\"PERSONCOUNT\",\"VEHCOUNT\",\"SEVERITYCODE\",\n            \"PERSONCOUNT_CAT\",\"VEHCOUNT_CAT\"]].values\n\nle_person = preprocessing.LabelEncoder()\nle_person.fit(list(car_acc[\"PERSONCOUNT_CAT\"].unique()))\nle_person_mapping = dict(zip(le_person.classes_, le_person.transform(le_person.classes_)))\nx[:,8] = le_person.transform(x[:,8]) \n\nle_veh = preprocessing.LabelEncoder()\nle_veh.fit(list(car_acc[\"VEHCOUNT_CAT\"].unique()))\nle_veh_mapping = dict(zip(le_veh.classes_, le_veh.transform(le_veh.classes_)))\nx[:,9] = le_veh.transform(x[:,9]) \n\nx[0:5]"
        },
        {
            "cell_type": "code",
            "execution_count": 34,
            "metadata": {},
            "outputs": [
                {
                    "data": {
                        "text/html": "<div>\n<style scoped>\n    .dataframe tbody tr th:only-of-type {\n        vertical-align: middle;\n    }\n\n    .dataframe tbody tr th {\n        vertical-align: top;\n    }\n\n    .dataframe thead th {\n        text-align: right;\n    }\n</style>\n<table border=\"1\" class=\"dataframe\">\n  <thead>\n    <tr style=\"text-align: right;\">\n      <th></th>\n      <th>WEATHER</th>\n      <th>SPEEDING</th>\n      <th>LIGHTCOND</th>\n      <th>ROADCOND</th>\n      <th>JUNCTIONTYPE</th>\n      <th>SEVERITYCODE</th>\n      <th>PERSONCOUNT</th>\n      <th>VEHCOUNT</th>\n    </tr>\n  </thead>\n  <tbody>\n    <tr>\n      <th>0</th>\n      <td>2</td>\n      <td>0</td>\n      <td>4</td>\n      <td>0</td>\n      <td>4</td>\n      <td>0</td>\n      <td>0</td>\n      <td>0</td>\n    </tr>\n    <tr>\n      <th>1</th>\n      <td>2</td>\n      <td>0</td>\n      <td>4</td>\n      <td>0</td>\n      <td>4</td>\n      <td>0</td>\n      <td>0</td>\n      <td>0</td>\n    </tr>\n    <tr>\n      <th>2</th>\n      <td>4</td>\n      <td>0</td>\n      <td>4</td>\n      <td>0</td>\n      <td>4</td>\n      <td>1</td>\n      <td>0</td>\n      <td>0</td>\n    </tr>\n    <tr>\n      <th>3</th>\n      <td>2</td>\n      <td>0</td>\n      <td>4</td>\n      <td>0</td>\n      <td>3</td>\n      <td>1</td>\n      <td>0</td>\n      <td>0</td>\n    </tr>\n    <tr>\n      <th>4</th>\n      <td>2</td>\n      <td>0</td>\n      <td>4</td>\n      <td>0</td>\n      <td>1</td>\n      <td>2</td>\n      <td>2</td>\n      <td>2</td>\n    </tr>\n  </tbody>\n</table>\n</div>",
                        "text/plain": "  WEATHER SPEEDING LIGHTCOND ROADCOND JUNCTIONTYPE SEVERITYCODE PERSONCOUNT  \\\n0       2        0         4        0            4            0           0   \n1       2        0         4        0            4            0           0   \n2       4        0         4        0            4            1           0   \n3       2        0         4        0            3            1           0   \n4       2        0         4        0            1            2           2   \n\n  VEHCOUNT  \n0        0  \n1        0  \n2        0  \n3        0  \n4        2  "
                    },
                    "execution_count": 34,
                    "metadata": {},
                    "output_type": "execute_result"
                }
            ],
            "source": "car_acc = pd.DataFrame(x)\ncar_acc.columns = [\"WEATHER\",\"SPEEDING\",\"LIGHTCOND\",\"ROADCOND\",\"JUNCTIONTYPE\",\"PERSONCOUNT\",\"VEHCOUNT\",\"SEVERITYCODE\",\n                   \"PERSONCOUNT_CAT\",\"VEHCOUNT_CAT\"]\ncar_acc.drop(['PERSONCOUNT','VEHCOUNT'], axis=1, inplace=True)\ncar_acc.rename(columns={'PERSONCOUNT_CAT': 'PERSONCOUNT', 'VEHCOUNT_CAT': 'VEHCOUNT'}, inplace=True)\ncar_acc.head()"
        },
        {
            "cell_type": "markdown",
            "metadata": {},
            "source": "### Code Mapping"
        },
        {
            "cell_type": "markdown",
            "metadata": {},
            "source": "|  WEATHER | CODE | ---- | SPEEDING | CODE | ---- | LIGHTCOND | CODE |\n| :- | | | | | | |-: |\n| Blowing Sand/Dirt| 0 | ---- | N | 0 | ---- | Dark - No Street Lights / Street Lights Off | 0 |\n| Blowing Snow | 1 | ---- | Y | 1 | ---- | Dark - Street Lights On | 1 |\n| Clear | 2 | ---- | | | ---- | Dark - Unknown Lighting | 2 |\n| Fog/Smog/Smoke | 3 | ---- | | | ---- | Dawn | 3 |\n| Overcast | 4 | ---- | | | ---- | Daylight | 4 |\n| Partly Cloudy | 5 | ---- | | | ---- | Dusk | 5 |\n| Raining | 6 | ---- | | | ---- | | |\n| Severe Crosswind | 7 | ---- | | | ---- | | |\n| Sleet/Hail/Freezing Rain | 8 | ---- | | | ---- | | |\n| Snowing | 9 | ---- | | | ---- | | |"
        },
        {
            "cell_type": "markdown",
            "metadata": {},
            "source": "|  ROADCOND | CODE | --- | JUNCTIONTYPE | CODE | --- | PERSONCOUNT | CODE | --- | VEHCOUNT | CODE |\n| :- | | | | | | | | | | -: |\n| Dry | 0 | --- | At Intersection (but not related to intersection) | 0 | --- | 0 <= x < 2 | 0 | --- | 0 <= x < 2 | 0 |\n| Ice | 1 | --- | At Intersection (intersection related) | 1 | --- | 2 <= x < 3 | 1 | --- | 2 <= x < 3 | 1 |\n| Oil | 2 | --- | Driveway Junction | 2 | --- | 3 <= x < 93 | 2 | --- | 3 <= x < 93 | 2 |\n| Other | 3 | --- | Mid-Block (but intersection related) | 3 | --- | | | | | |\n| Sand/Mud/Dirt | 4 | --- | Mid-Block (not related to intersection) | 4 | --- | | | | | |\n| Snow/Slush | 5 | --- | Ramp Junction | 5 | --- | | | | | |\n| Standing Water | 6 | --- | | | --- | | | | | |\n| Wet | 7 | --- | | | --- | | | | | |"
        },
        {
            "cell_type": "markdown",
            "metadata": {},
            "source": "## 3.5 Balance Data <a name=\"bal_data\"></a>\nnow that the data is filtered and categorized proceed to balance the data with the Up-sample Minority Class method, the majority class is 1 : ______"
        },
        {
            "cell_type": "code",
            "execution_count": 42,
            "metadata": {},
            "outputs": [
                {
                    "name": "stdout",
                    "output_type": "stream",
                    "text": "SHAPE 0:  (21607, 8)\nSHAPE 1:  (136517, 8)\nSHAPE 2:  (58492, 8)\nSHAPE 3:  (3086, 8)\nSHAPE 4:  (346, 8)\n"
                }
            ],
            "source": "car_acc_0 = car_acc[car_acc.SEVERITYCODE == '0']\ncar_acc_1 = car_acc[car_acc.SEVERITYCODE == '1']\ncar_acc_2 = car_acc[car_acc.SEVERITYCODE == '2']\ncar_acc_3 = car_acc[car_acc.SEVERITYCODE == '3']\ncar_acc_4 = car_acc[car_acc.SEVERITYCODE == '4']\nprint(\"SHAPE 0: \",car_acc_0.shape)\nprint(\"SHAPE 1: \",car_acc_1.shape)\nprint(\"SHAPE 2: \",car_acc_2.shape)\nprint(\"SHAPE 3: \",car_acc_3.shape)\nprint(\"SHAPE 4: \",car_acc_4.shape)"
        },
        {
            "cell_type": "code",
            "execution_count": 40,
            "metadata": {},
            "outputs": [
                {
                    "name": "stdout",
                    "output_type": "stream",
                    "text": "The shape of the upsample dataframe is :  (682585, 8)\n"
                }
            ],
            "source": "maj_class =car_acc_1.shape[0]\n\ncar_acc_0_upsampled = resample(car_acc_0,replace=True,n_samples=maj_class,random_state=123) \n\ncar_acc_2_upsampled = resample(car_acc_2,replace=True,n_samples=maj_class,random_state=123) \n\ncar_acc_3_upsampled = resample(car_acc_3,replace=True,n_samples=maj_class,random_state=123) \n\ncar_acc_4_upsampled = resample(car_acc_4,replace=True,n_samples=maj_class,random_state=123) \n\ncar_acc_upsampled = pd.concat([car_acc_0_upsampled, car_acc_1, car_acc_2_upsampled, car_acc_3_upsampled, car_acc_4_upsampled])\n\nprint(\"The shape of the upsample dataframe is : \",car_acc_upsampled.shape)"
        },
        {
            "cell_type": "code",
            "execution_count": 41,
            "metadata": {},
            "outputs": [
                {
                    "data": {
                        "text/html": "<div>\n<style scoped>\n    .dataframe tbody tr th:only-of-type {\n        vertical-align: middle;\n    }\n\n    .dataframe tbody tr th {\n        vertical-align: top;\n    }\n\n    .dataframe thead th {\n        text-align: right;\n    }\n</style>\n<table border=\"1\" class=\"dataframe\">\n  <thead>\n    <tr style=\"text-align: right;\">\n      <th></th>\n      <th>WEATHER</th>\n      <th>SPEEDING</th>\n      <th>LIGHTCOND</th>\n      <th>ROADCOND</th>\n      <th>JUNCTIONTYPE</th>\n      <th>SEVERITYCODE</th>\n      <th>PERSONCOUNT</th>\n      <th>VEHCOUNT</th>\n    </tr>\n  </thead>\n  <tbody>\n    <tr>\n      <th>0</th>\n      <td>2</td>\n      <td>0</td>\n      <td>4</td>\n      <td>0</td>\n      <td>4</td>\n      <td>0</td>\n      <td>0</td>\n      <td>0</td>\n    </tr>\n    <tr>\n      <th>1</th>\n      <td>2</td>\n      <td>0</td>\n      <td>4</td>\n      <td>0</td>\n      <td>4</td>\n      <td>0</td>\n      <td>0</td>\n      <td>0</td>\n    </tr>\n    <tr>\n      <th>2</th>\n      <td>2</td>\n      <td>0</td>\n      <td>4</td>\n      <td>0</td>\n      <td>4</td>\n      <td>0</td>\n      <td>0</td>\n      <td>0</td>\n    </tr>\n    <tr>\n      <th>3</th>\n      <td>2</td>\n      <td>0</td>\n      <td>4</td>\n      <td>0</td>\n      <td>4</td>\n      <td>0</td>\n      <td>0</td>\n      <td>0</td>\n    </tr>\n    <tr>\n      <th>4</th>\n      <td>2</td>\n      <td>0</td>\n      <td>4</td>\n      <td>0</td>\n      <td>4</td>\n      <td>0</td>\n      <td>0</td>\n      <td>0</td>\n    </tr>\n  </tbody>\n</table>\n</div>",
                        "text/plain": "  WEATHER SPEEDING LIGHTCOND ROADCOND JUNCTIONTYPE SEVERITYCODE PERSONCOUNT  \\\n0       2        0         4        0            4            0           0   \n1       2        0         4        0            4            0           0   \n2       2        0         4        0            4            0           0   \n3       2        0         4        0            4            0           0   \n4       2        0         4        0            4            0           0   \n\n  VEHCOUNT  \n0        0  \n1        0  \n2        0  \n3        0  \n4        0  "
                    },
                    "execution_count": 41,
                    "metadata": {},
                    "output_type": "execute_result"
                }
            ],
            "source": "car_acc_upsampled.reset_index(inplace = True,drop=True) \ncar_acc_upsampled.head()"
        },
        {
            "cell_type": "markdown",
            "metadata": {},
            "source": "## 3.6 Train / Test Division <a name=\"tt_div\"></a>"
        },
        {
            "cell_type": "markdown",
            "metadata": {},
            "source": "divide the dataset into train and test with a proportion of 70/30"
        },
        {
            "cell_type": "code",
            "execution_count": 54,
            "metadata": {},
            "outputs": [],
            "source": "X = car_acc_upsampled[[\"WEATHER\",\"SPEEDING\",\"LIGHTCOND\",\"ROADCOND\",\"JUNCTIONTYPE\",\"PERSONCOUNT\",\"VEHCOUNT\"]].values\nY = car_acc_upsampled[\"SEVERITYCODE\"]\nx_train, x_test, y_train, y_test = train_test_split(X, Y, test_size=0.3, random_state=3)"
        },
        {
            "cell_type": "markdown",
            "metadata": {},
            "source": "# 4. Modeling <a name=\"modeling\"></a>\n<hr style=\"border:1px solid black\"> </hr>\nstart running diferent models"
        },
        {
            "cell_type": "code",
            "execution_count": null,
            "metadata": {},
            "outputs": [],
            "source": ""
        }
    ],
    "metadata": {
        "kernelspec": {
            "display_name": "Python 3",
            "language": "python",
            "name": "python3"
        },
        "language_info": {
            "codemirror_mode": {
                "name": "ipython",
                "version": 3
            },
            "file_extension": ".py",
            "mimetype": "text/x-python",
            "name": "python",
            "nbconvert_exporter": "python",
            "pygments_lexer": "ipython3",
            "version": "3.7.4"
        }
    },
    "nbformat": 4,
    "nbformat_minor": 4
}